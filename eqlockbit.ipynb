{
 "cells": [
  {
   "cell_type": "code",
   "execution_count": 1,
   "metadata": {
    "Collapsed": "false"
   },
   "outputs": [],
   "source": [
    "from gwpy.timeseries import TimeSeries\n",
    "import matplotlib.pyplot as plt\n",
    "from matplotlib.pyplot import figure\n",
    "from gwpy.time import tconvert\n",
    "from scipy.signal import find_peaks\n",
    "import numpy as np\n",
    "from IPython.core.interactiveshell import InteractiveShell\n",
    "InteractiveShell.ast_node_interactivity = \"all\"\n",
    "%matplotlib inline\n",
    "import pandas as pd"
   ]
  },
  {
   "cell_type": "code",
   "execution_count": null,
   "metadata": {
    "Collapsed": "false"
   },
   "outputs": [],
   "source": [
    "#define parameters\n",
    "start_time = 1262217618  #Jan 5, 2020 - Jan 12, 2020\n",
    "duration = 24*3600*8\n",
    "channels = ['ETMX_Z','ITMY_Z','ETMY_Z','ETMX_X','ITMY_Y','ETMY_Y']\n",
    "\n",
    "peakwidth = 5\n",
    "peakprom = 100\n",
    "peakdist = 60"
   ]
  },
  {
   "cell_type": "code",
   "execution_count": null,
   "metadata": {
    "Collapsed": "false",
    "tags": []
   },
   "outputs": [],
   "source": [
    "%%time\n",
    "#get time series in microseismic band ground motion\n",
    "channelRMS = []\n",
    "for chn in channels:\n",
    "    chname = 'L1:ISI-GND_STS_' + chn + '_BLRMS_100M_300M.max'\n",
    "    data = TimeSeries.find(chname, start_time, start_time + duration, frametype ='L1_M', verbose=True)\n",
    "    channelRMS.append(data.value)"
   ]
  },
  {
   "cell_type": "code",
   "execution_count": null,
   "metadata": {
    "Collapsed": "false"
   },
   "outputs": [],
   "source": [
    "#store data\n",
    "eqdata100m300m = pd.DataFrame(np.transpose(channelRMS), columns = [channels])\n",
    "eqdata100m300m"
   ]
  },
  {
   "cell_type": "code",
   "execution_count": null,
   "metadata": {
    "Collapsed": "false"
   },
   "outputs": [],
   "source": [
    "#save to csv\n",
    "eqdata100m300m.to_csv(\"eqdata_jan5-12_100M_300M.csv\") "
   ]
  },
  {
   "cell_type": "code",
   "execution_count": null,
   "metadata": {
    "Collapsed": "false"
   },
   "outputs": [],
   "source": [
    "eqdatadf = pd.read_csv(\"eqdata_jan5-12_100M_300M.csv\")"
   ]
  },
  {
   "cell_type": "code",
   "execution_count": null,
   "metadata": {
    "Collapsed": "false"
   },
   "outputs": [],
   "source": [
    "%%time\n",
    "#find time series for lockbit data\n",
    "Lockbit = TimeSeries.find('L1:GRD-ISC_LOCK_STATE_N.min',start_time, start_time + duration, frametype ='L1_M', verbose=True)"
   ]
  },
  {
   "cell_type": "code",
   "execution_count": null,
   "metadata": {
    "Collapsed": "false"
   },
   "outputs": [],
   "source": [
    "np.unique(Lockbit.value)"
   ]
  },
  {
   "cell_type": "code",
   "execution_count": null,
   "metadata": {
    "Collapsed": "false"
   },
   "outputs": [],
   "source": [
    "#find peaks just using a threshold\n",
    "peaks,_ = find_peaks(channelRMS[0],height = 100)\n",
    "peaks"
   ]
  },
  {
   "cell_type": "code",
   "execution_count": null,
   "metadata": {
    "Collapsed": "false"
   },
   "outputs": [],
   "source": [
    "#plot peaks in ETMX_Z\n",
    "plt.figure(figsize=(12,8))\n",
    "plt.plot(channelRMS[0])\n",
    "plt.plot(peaks, channelRMS[0][peaks],'*')\n",
    "plt.yscale('log')\n",
    "plt.show()"
   ]
  },
  {
   "cell_type": "code",
   "execution_count": null,
   "metadata": {
    "Collapsed": "false"
   },
   "outputs": [],
   "source": [
    "#find peaks using parameters\n",
    "peaks,_ = find_peaks(channelRMS[0], width = peakwidth, distance = peakdist, prominence = peakprom)\n",
    "peaks"
   ]
  },
  {
   "cell_type": "code",
   "execution_count": null,
   "metadata": {
    "Collapsed": "false"
   },
   "outputs": [],
   "source": [
    "#plot peaks in ETMX_Z with parameters\n",
    "plt.figure(figsize=(12,8))\n",
    "plt.plot(channelRMS[0])\n",
    "plt.plot(peaks, channelRMS[0][peaks],'*')\n",
    "plt.yscale('log')\n",
    "plt.show()"
   ]
  },
  {
   "cell_type": "code",
   "execution_count": null,
   "metadata": {
    "Collapsed": "false"
   },
   "outputs": [],
   "source": [
    "#plot peaks in ETMXZ, ITMY_Z,AND ETMY_Z with parameters\n",
    "plt.figure(figsize=(12,8))\n",
    "peaksRMSix = [] #location of local peaks in each Z- channel\n",
    "\n",
    "for jj in range(3):\n",
    "    peaksix,_ = find_peaks(channelRMS[jj], width = peakwidth, distance = peakdist, prominence = peakprom)\n",
    "    peaksRMSix.append(peaksix)\n",
    "    plt.plot(channelRMS[jj])\n",
    "    plt.plot(peaksix, channelRMS[jj][peaksix],'*')\n",
    "\n",
    "plt.yscale('log')\n",
    "plt.show()"
   ]
  },
  {
   "cell_type": "code",
   "execution_count": null,
   "metadata": {
    "Collapsed": "false"
   },
   "outputs": [],
   "source": [
    "#find common peaks in at least two of the three Z-channels, define those as EQs\n",
    "EQix = []\n",
    "\n",
    "EQix.append(np.intersect1d(peaksRMSix[0],peaksRMSix[1]))\n",
    "EQix.append(np.intersect1d(peaksRMSix[1],peaksRMSix[2]))\n",
    "EQix.append(np.intersect1d(peaksRMSix[2],peaksRMSix[0]))\n",
    "\n",
    "\n",
    "EQix = np.unique(np.concatenate(EQix))\n",
    "EQix"
   ]
  },
  {
   "cell_type": "code",
   "execution_count": null,
   "metadata": {},
   "outputs": [],
   "source": [
    "#find if detector survived EQ or lost lock status\n",
    "survived = []\n",
    "lostlock = []\n",
    "delta = 10  #minutes - interval before and after EQ to define survival\n",
    "\n",
    "for jj in EQix:\n",
    "    if np.min(Lockbit.value[jj-delta:jj+delta])>=2000:\n",
    "        survived.append(jj)\n",
    "    else:\n",
    "        lostlock.append(jj)"
   ]
  }
 ],
 "metadata": {
  "kernelspec": {
   "display_name": "igwn-py38",
   "language": "python",
   "name": "igwn-py38"
  },
  "language_info": {
   "codemirror_mode": {
    "name": "ipython",
    "version": 3
   },
   "file_extension": ".py",
   "mimetype": "text/x-python",
   "name": "python",
   "nbconvert_exporter": "python",
   "pygments_lexer": "ipython3",
   "version": "3.8.12"
  }
 },
 "nbformat": 4,
 "nbformat_minor": 4
}
