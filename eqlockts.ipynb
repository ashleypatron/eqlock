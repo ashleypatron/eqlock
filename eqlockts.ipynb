{
 "cells": [
  {
   "cell_type": "code",
   "execution_count": null,
   "metadata": {
    "Collapsed": "false"
   },
   "outputs": [],
   "source": [
    "# EQLock TimeSeries"
   ]
  },
  {
   "cell_type": "code",
   "execution_count": null,
   "metadata": {
    "Collapsed": "false"
   },
   "outputs": [],
   "source": [
    "from gwpy.timeseries import TimeSeries"
   ]
  },
  {
   "cell_type": "code",
   "execution_count": 7,
   "metadata": {
    "Collapsed": "false"
   },
   "outputs": [],
   "source": [
    "# define parameters and get data\n",
    "gpss = 1267747218                #Mar 09 2020\n",
    "chname = 'L1:ISI-GND_STS_CS_Z_EQ_PEAK_OUTMON'"
   ]
  },
  {
   "cell_type": "code",
   "execution_count": null,
   "metadata": {
    "Collapsed": "false"
   },
   "outputs": [],
   "source": [
    "gpse = gpss + 24*3600\n",
    "data = TimeSeries.get(chname, gpss, gpse, verbose=False)\n",
    "data.write('eqlock_output.hdf', format='hdf5')"
   ]
  },
  {
   "cell_type": "code",
   "execution_count": null,
   "metadata": {
    "Collapsed": "false"
   },
   "outputs": [],
   "source": [
    "for d in range(1,7):\n",
    "    print(d)\n",
    "    data = TimeSeries.get(chname, gpss+d*24*3600, gpss+(d+1)*24*3600, verbose=False)\n",
    "    data.write('eqlock_output.hdf', format='hdf5', append=True)"
   ]
  },
  {
   "cell_type": "code",
   "execution_count": null,
   "metadata": {},
   "outputs": [],
   "source": [
    "eqdata_100m300m = pd.DataFrame(np.transpose(channelRMS), columns = [channels])\n",
    "eqdata_100m300m"
   ]
  }
 ],
 "metadata": {
  "kernelspec": {
   "display_name": "igwn-py38",
   "language": "python",
   "name": "igwn-py38"
  },
  "language_info": {
   "codemirror_mode": {
    "name": "ipython",
    "version": 3
   },
   "file_extension": ".py",
   "mimetype": "text/x-python",
   "name": "python",
   "nbconvert_exporter": "python",
   "pygments_lexer": "ipython3",
   "version": "3.8.12"
  }
 },
 "nbformat": 4,
 "nbformat_minor": 4
}
