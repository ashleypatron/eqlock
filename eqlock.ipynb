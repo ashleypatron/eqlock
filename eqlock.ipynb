{
 "cells": [
  {
   "cell_type": "markdown",
   "id": "6dff2237-0515-4ed3-95c4-509bbb05f086",
   "metadata": {
    "tags": []
   },
   "source": [
    "## EqLock: Statistics of Earthquakes and Detector Lockloss\n",
    "\n",
    "**Inputs:**\n",
    "* Channels: choose frequency band and ETM/ITM channels of interest\n",
    "* Parameters: (Section 1) start time of all data, duration of all data; (2) the required width of peaks, prominience of peaks, and horizontal distance between peaks; (3) interval before/after peak to find earthquake, maximum lock value; and (5) bins to plot probability.\n",
    "\n",
    "**Outputs:**\n",
    "* Statistics: date of peak, if earthquake event (peak) broke lock, time of peak, vertical ground velocity, horizontal ground velocity, ratio vert./horiz. velocity, time of lockloss, and the vertical and horizontal velocities at time of lockloss.\n",
    "* Plots: vertical vs. horizontal ground velocities, probability of surviving an earthquake of certain magnitude"
   ]
  },
  {
   "cell_type": "code",
   "execution_count": 1,
   "id": "1dd72fcd-29b7-4117-a8e5-d81edb9ac9cd",
   "metadata": {},
   "outputs": [],
   "source": [
    "import pandas as pd\n",
    "import numpy as np\n",
    "\n",
    "from gwpy.timeseries import TimeSeries\n",
    "import matplotlib.pyplot as plt\n",
    "from matplotlib.pyplot import figure\n",
    "import matplotlib.colors as mcolors\n",
    "import matplotlib.ticker as ticker\n",
    "from scipy.signal import find_peaks\n",
    "from datetime import date\n",
    "from gwpy.time import tconvert\n",
    "from gwpy.time import from_gps\n",
    "from numpy import sqrt\n",
    "import math\n",
    "from IPython.core.interactiveshell import InteractiveShell\n",
    "InteractiveShell.ast_node_interactivity = \"last\"\n",
    "%matplotlib inline"
   ]
  },
  {
   "cell_type": "code",
   "execution_count": 2,
   "id": "3af4906a-ee32-420f-ab6b-d9adf85a4409",
   "metadata": {},
   "outputs": [],
   "source": [
    "#data parameters\n",
    "\n",
    "start_time = 1243382418 #June 1-30, 2019\n",
    "duration = 24*3600*30 #30 days in Sep #can also use GPS (end time - start time)\n",
    "\n",
    "#vertical + horizontal channels for end stations ETMX, ETMY and inner station ITMY\n",
    "#first 3 are Z-channels, then X and Y for each station\n",
    "channel = 'L1:ISI-GND_STS_'\n",
    "channels = ['ETMX_Z', 'ETMY_Z', 'ITMY_Z', 'ETMX_X','ETMX_Y', 'ETMY_X', 'ETMY_Y', 'ITMY_X', 'ITMY_Y'] #first 3 are Z-channels, then X and Y for each station\n",
    "band = '_BLRMS_30M_100M.max' #earthquake band 0.03-0.1 Hz\n",
    "\n",
    "#choose name and location of csv data files\n",
    "#keep date, frequency, and location in file name\n",
    "bandfname = \"eqlock_data/eqdata_jun2019_30M_100M_LA.csv\"\n",
    "lockfname = \"eqlock_data/lbdata_jun2019_LA.csv\""
   ]
  },
  {
   "cell_type": "markdown",
   "id": "8cc34c45-9e6a-4817-b254-bb4e25696907",
   "metadata": {
    "tags": []
   },
   "source": [
    "### Section 1: Get earthquake and lockbit data\n",
    "* Import the time series of the seismic motion and lock data as minute trends, then the resulting dataframes are saved to CSV files.\n",
    "* Note on efficiency: This is most time-consuming part of code!\n",
    "    * For one month of data, it takes between 1.5-4.5 hours (typically ~3 hours) to get the seismic TimeSeries and 10-30 minutes to get lockbit TimeSeries data.\n",
    "    * If importing large amounts of data, I recommend breaking it up and repeating Sections 1, 2, and 3. If separated by month, for example, Section 1 saves two csv files (seismic and lock data) for each month. Section 2 then loads the data from these csv files, and Section 3 gathers statistics for this time interval."
   ]
  },
  {
   "cell_type": "code",
   "execution_count": 3,
   "id": "9fda1cf7-19fb-4272-9d2b-3e457db4c50d",
   "metadata": {
    "tags": []
   },
   "outputs": [
    {
     "name": "stdout",
     "output_type": "stream",
     "text": [
      "Reading L1_M frames: |██████████| 513/513 (100%) ETA 00:00 \n",
      "Reading L1_M frames: |██████████| 513/513 (100%) ETA 00:00 \n",
      "Reading L1_M frames: |██████████| 513/513 (100%) ETA 00:00 \n",
      "Reading L1_M frames: |██████████| 513/513 (100%) ETA 00:00 \n",
      "Reading L1_M frames: |██████████| 513/513 (100%) ETA 00:00 \n",
      "Reading L1_M frames: |██████████| 513/513 (100%) ETA 00:00 \n",
      "Reading L1_M frames: |██████████| 513/513 (100%) ETA 00:00 \n",
      "Reading L1_M frames: |██████████| 513/513 (100%) ETA 00:00 \n",
      "Reading L1_M frames: |██████████| 513/513 (100%) ETA 00:00 \n",
      "CPU times: user 1h 19min 20s, sys: 4min 32s, total: 1h 23min 52s\n",
      "Wall time: 1h 28min 45s\n"
     ]
    }
   ],
   "source": [
    "%%time\n",
    "#time this cell to understand efficiency\n",
    "\n",
    "#get time series in earthquake band ground motion\n",
    "channelRMS = []\n",
    "for chn in channels:\n",
    "    chname = channel + chn + band\n",
    "    data = TimeSeries.find(chname, start_time, start_time + duration, frametype ='L1_M', verbose=True) #L1_M is minute-trend\n",
    "    channelRMS.append(data.value)"
   ]
  },
  {
   "cell_type": "code",
   "execution_count": 5,
   "id": "d4d1b152-ea2e-460c-8922-1b7f61e5142b",
   "metadata": {},
   "outputs": [],
   "source": [
    "#store earthquake data\n",
    "eqdata = pd.DataFrame(np.transpose(channelRMS), columns = [channels])"
   ]
  },
  {
   "cell_type": "code",
   "execution_count": 6,
   "id": "2b8c80ab-0912-40ef-98d2-c86a32238d59",
   "metadata": {},
   "outputs": [],
   "source": [
    "#save to csv \n",
    "eqdata.to_csv(bandfname)"
   ]
  },
  {
   "cell_type": "code",
   "execution_count": 7,
   "id": "36176801-3196-4adf-8cd8-56a6f94c61be",
   "metadata": {
    "tags": []
   },
   "outputs": [
    {
     "name": "stdout",
     "output_type": "stream",
     "text": [
      "Reading L1_M frames: |██████████| 513/513 (100%) ETA 00:00 \n",
      "CPU times: user 8min 20s, sys: 28.8 s, total: 8min 49s\n",
      "Wall time: 9min 30s\n"
     ]
    }
   ],
   "source": [
    "%%time\n",
    "#find time series for lockbit data\n",
    "\n",
    "lockstate = []\n",
    "lockbit_ts = TimeSeries.find('L1:GRD-ISC_LOCK_STATE_N.min',start_time, start_time + duration, frametype ='L1_M', verbose=True) #minute-trend\n",
    "lockstate.append(lockbit_ts.value)"
   ]
  },
  {
   "cell_type": "code",
   "execution_count": 8,
   "id": "0c5b151e-c1fb-4d7b-b286-f8119a83c018",
   "metadata": {},
   "outputs": [],
   "source": [
    "#store lockbit data\n",
    "lbdata = pd.DataFrame(np.transpose(lockstate)) "
   ]
  },
  {
   "cell_type": "code",
   "execution_count": 9,
   "id": "80c0af3b-12f4-47cb-865b-a095f13cc72e",
   "metadata": {},
   "outputs": [],
   "source": [
    "#save to csv\n",
    "lbdata.to_csv(lockfname) "
   ]
  },
  {
   "cell_type": "markdown",
   "id": "1905fda5-d586-49a1-b2a4-3836d9464047",
   "metadata": {},
   "source": [
    "### Section 2: Combine data & find earthquakes\n",
    "* Three key parameters set here (width, prominence, and distance) define what is considered a peak in the data, thus what characterizes an earthquake. Use these parameters as arguments in the find_peaks command.\n",
    "* If peaks are common to 2 or more of the 3 vertical channels, it is categorized as an earthquake. The earthquakes can then be plotted along with the seismic data."
   ]
  },
  {
   "cell_type": "code",
   "execution_count": 3,
   "id": "b0480fce-448b-4956-8902-a5f4c20b1aa8",
   "metadata": {},
   "outputs": [],
   "source": [
    "#set parameters to use with find_peaks command\n",
    "peakwidth = 5 \n",
    "peakprom = 100\n",
    "peakdist = 120"
   ]
  },
  {
   "cell_type": "code",
   "execution_count": 197,
   "id": "c767d787-3ea0-4dda-859e-831505e7dc58",
   "metadata": {
    "tags": []
   },
   "outputs": [],
   "source": [
    "#get earthquake dataframe from file\n",
    "lockbitdf = pd.read_csv(lockfname)\n",
    "eqdatadf = pd.read_csv(bandfname)"
   ]
  },
  {
   "cell_type": "code",
   "execution_count": 198,
   "id": "5ee439ec-139b-4cbf-9323-fc4e212fa1e4",
   "metadata": {
    "tags": []
   },
   "outputs": [
    {
     "data": {
      "text/plain": [
       "[array([  143,  2681,  5170,  6701, 10002, 10742, 11901, 12773,\n",
       "        12899, 13841, 14039, 14170, 16290, 18223, 18731, 19041,\n",
       "        19205, 20372, 20881, 21901, 23164, 25647, 26334, 26485,\n",
       "        27794, 28947, 30594]),\n",
       " array([  137,  2682,  4239,  5170,  6701, 10023, 10743, 11900,\n",
       "        12773, 12899, 13841, 14039, 14170, 16290, 17287, 18223,\n",
       "        18731, 19041, 19205, 20365, 20881, 21901, 23164, 25647,\n",
       "        26334, 26485, 28947, 30449, 30732]),\n",
       " array([  143,  2682,  5170,  6701, 10130, 10319, 10742, 11900,\n",
       "        12773, 13841, 14039, 14170, 16290, 18223, 18731, 19041,\n",
       "        19205, 20362, 20881, 21902, 23164, 25647, 26334, 26485,\n",
       "        28947])]"
      ]
     },
     "execution_count": 198,
     "metadata": {},
     "output_type": "execute_result"
    }
   ],
   "source": [
    "peaksRMSix = [] #find location of local peaks in each Z-channel\n",
    "\n",
    "for i in channels[0:3]: #just first 3 channels, in this example\n",
    "    peaksix,_ = find_peaks(eqdatadf[i], width = peakwidth, distance = peakdist, prominence = peakprom)\n",
    "    peaksRMSix.append(peaksix)\n",
    "\n",
    "peaksRMSix"
   ]
  },
  {
   "cell_type": "code",
   "execution_count": 199,
   "id": "0945ce55-1425-4983-bab0-46f92a91cefb",
   "metadata": {},
   "outputs": [
    {
     "data": {
      "text/plain": [
       "array([  143,  2682,  5170,  6701, 10742, 11900, 12773, 12899,\n",
       "       13841, 14039, 14170, 16290, 18223, 18731, 19041, 19205,\n",
       "       20881, 21901, 23164, 25647, 26334, 26485, 28947])"
      ]
     },
     "execution_count": 199,
     "metadata": {},
     "output_type": "execute_result"
    }
   ],
   "source": [
    "#find common peaks in at least two of the three Z-channels, define those as earthquakes (EQs)\n",
    "EQix = []\n",
    "\n",
    "EQix.append(np.intersect1d(peaksRMSix[0],peaksRMSix[1]))\n",
    "EQix.append(np.intersect1d(peaksRMSix[1],peaksRMSix[2]))\n",
    "EQix.append(np.intersect1d(peaksRMSix[2],peaksRMSix[0]))\n",
    "\n",
    "EQix = np.unique(np.concatenate(EQix))\n",
    "EQix #returns location of each EQ peak in minutes from the start time"
   ]
  },
  {
   "cell_type": "code",
   "execution_count": 200,
   "id": "8a29eda5-6f5a-4dfa-b9d6-718f93e838f9",
   "metadata": {},
   "outputs": [
    {
     "data": {
      "image/png": "[encoded data removed]",
      "text/plain": [
       "<Figure size 864x576 with 1 Axes>"
      ]
     },
     "metadata": {
      "needs_background": "light"
     },
     "output_type": "display_data"
    }
   ],
   "source": [
    "#plot common peaks in ETMX_Z, ETMY_Z, and ITMY_Z\n",
    "plt.figure(figsize=(12,8))\n",
    "plt.title('L1: Common peaks in vertical motion channels',fontsize=18)\n",
    "\n",
    "#plot ground motion\n",
    "colors = ['blue','green','purple']\n",
    "for jj in range(3): #just first 3 channels, in this example\n",
    "    plt.plot(eqdatadf[channels[jj]], color = colors[jj])\n",
    "\n",
    "#plot earthquakes\n",
    "for jj in range(3):\n",
    "    for i in range(len(EQix)): #loop over common EQ peaks\n",
    "        plt.plot(EQix[i], eqdatadf[channels[jj]][EQix[i]], '*', color = 'orange')\n",
    "\n",
    "plt.grid(True, which=\"both\")\n",
    "plt.legend(['ETMX_Z', 'ETMY_Z', 'ITMY_Z', 'Earthquakes'])\n",
    "labels = ['06-01', '06-08', '06-15', '06-22', '06-29'] #labels for each week\n",
    "plt.xticks(np.arange(0, len(eqdatadf)+1, step=10080), labels)\n",
    "plt.xlabel('Time from %s 00:00:00 UTC' % date.isoformat(from_gps(start_time)), fontsize=15)\n",
    "plt.ylabel('Ground motion [nm/s]',fontsize=15)\n",
    "plt.yscale('log')\n",
    "plt.show()"
   ]
  },
  {
   "cell_type": "markdown",
   "id": "d86e0c89-88ce-4f08-afe1-5ea65d33b883",
   "metadata": {},
   "source": [
    "### Section 3: Get statistics\n",
    "* Step through a chosen interval to find if and when the detector loses lock.\n",
    "* The delta parameter refers to the time interval around a peak in seismic motion data, where the number represents the number of minutes either before or after the peak. The total time interval is therefore 2 x delta.\n",
    "* The statistics found for each earthquake peak are the following: date of peak, yes/no if earthquake broke lock, time of peak, vertical ground velocity, horizontal ground velocity, ratio of vertical/horizontal velocities, and also for the earthquakes that did not survive, the time of lost lock, and the vertical and horizontal ground velocities at that time."
   ]
  },
  {
   "cell_type": "code",
   "execution_count": 201,
   "id": "fc1f0574-0034-478b-8a3c-591adb6b6e3e",
   "metadata": {},
   "outputs": [],
   "source": [
    "#set parameters\n",
    "delta = 20  #minutes before and after EQ\n",
    "maxlock = 2000 #2000 for LA, 600 for WA\n",
    "\n",
    "eqfname = \"eqlock_data/eqtotaldf_jun2019_30M_100M_LA.csv\" #will store dataframe of earthquake statistics"
   ]
  },
  {
   "cell_type": "code",
   "execution_count": 202,
   "id": "47f3807f-ab52-46be-8d69-eb33a13e0c92",
   "metadata": {},
   "outputs": [
    {
     "data": {
      "text/plain": [
       "[143,\n",
       " 6701,\n",
       " 10742,\n",
       " 11900,\n",
       " 12773,\n",
       " 12899,\n",
       " 16290,\n",
       " 18731,\n",
       " 19041,\n",
       " 19205,\n",
       " 20881,\n",
       " 23164]"
      ]
     },
     "execution_count": 202,
     "metadata": {},
     "output_type": "execute_result"
    }
   ],
   "source": [
    "#find if detector survived EQ or lost lock status\n",
    "#create lists for each outcome\n",
    "survived = []\n",
    "lostlock = []\n",
    "\n",
    "#find if the lockbit value drops in the 20-min interval before and after EQ\n",
    "for jj in EQix: \n",
    "    if np.min(lockbitdf['0'][jj-delta:jj+delta])>=maxlock: #if no drop, detector survived\n",
    "        survived.append(jj)\n",
    "    else: #if value drops below max lock around time of EQ, we say detector lost lock\n",
    "        lostlock.append(jj)\n",
    "\n",
    "lostlock"
   ]
  },
  {
   "cell_type": "code",
   "execution_count": 203,
   "id": "1562adc6-4d73-4086-9d3c-74665a49884e",
   "metadata": {},
   "outputs": [
    {
     "data": {
      "text/plain": [
       "[123,\n",
       " 6681,\n",
       " 10722,\n",
       " 11880,\n",
       " 12769,\n",
       " 12879,\n",
       " 16270,\n",
       " 18719,\n",
       " 19021,\n",
       " 19185,\n",
       " 20864,\n",
       " 23155]"
      ]
     },
     "execution_count": 203,
     "metadata": {},
     "output_type": "execute_result"
    }
   ],
   "source": [
    "#find times of lockloss within +/- delta of each event #this cell gave error for apr\n",
    "lostlockbit = []\n",
    "\n",
    "for jj in lostlock:\n",
    "    delta = 20 \n",
    "    while lockbitdf['0'][jj-delta]>=maxlock: #step through 20-min interval\n",
    "        delta = delta - 1    \n",
    "    lostlockbit.append(jj-delta)  #first number we lost lock: associate w EQ\n",
    "    \n",
    "lostlockbit"
   ]
  },
  {
   "cell_type": "code",
   "execution_count": 204,
   "id": "8bcbc10c-48bc-43e3-b80b-b92c3c144fb3",
   "metadata": {},
   "outputs": [],
   "source": [
    "#for survived & lost lock, find max vertical and max horizontal velocity\n",
    "\n",
    "#this dataframe will store EQ statistics\n",
    "eqdata_total = []\n",
    "\n",
    "EQix_secs = [element * 60 for element in EQix] #convert minutes to seconds\n",
    "EQix_gps = [element + start_time for element in EQix_secs] #GPS times of common peaks\n",
    "lostlock_secs = [element * 60 for element in lostlockbit] #min to sec\n",
    "lostlock_gps = [element + start_time for element in lostlock_secs] #GPS times when first lost lock\n",
    "\n",
    "for i in range(len(EQix)):\n",
    "    \n",
    "    #date and GPS time of each earthquake event\n",
    "    date = from_gps(EQix_gps[i]) \n",
    "    tpeak = EQix_gps[i]\n",
    "    \n",
    "    #vertical motion at peak; choose maximum of the Z-channels\n",
    "    maxv_v = max(eqdatadf['ETMX_Z'][EQix[i]], eqdatadf['ETMY_Z'][EQix[i]], eqdatadf['ITMY_Z'][EQix[i]])\n",
    "    \n",
    "    #horizontal motion at peak; add velocities in quadrature, then choose max value\n",
    "    etmxh = sqrt((eqdatadf['ETMX_X'][EQix[i]])**2 + (eqdatadf['ETMX_Y'][EQix[i]])**2)\n",
    "    etmyh = sqrt((eqdatadf['ETMY_X'][EQix[i]])**2 + (eqdatadf['ETMY_Y'][EQix[i]])**2)\n",
    "    itmyh = sqrt((eqdatadf['ITMY_X'][EQix[i]])**2 + (eqdatadf['ITMY_Y'][EQix[i]])**2)\n",
    "    maxv_h = max(etmxh, etmyh, itmyh)\n",
    "    \n",
    "    #compare vertical to horizontal\n",
    "    ratio = maxv_v/maxv_h\n",
    "\n",
    "    #did earthquake break the lock?\n",
    "    if pd.Series(EQix[i]).isin(survived).any(): #survived\n",
    "        brlock = \"No\"  \n",
    "        tlostlock = \"-\"\n",
    "        lostv_v = \"-\"\n",
    "        lostv_h = \"-\"\n",
    "    if pd.Series(EQix[i]).isin(lostlock).any(): #lost lock\n",
    "        brlock = \"Yes\"\n",
    "        j=0\n",
    "        while EQix[i] != lostlock[j]: #find which peaks cause lockloss\n",
    "            j=j+1\n",
    "        tlostlock = lostlock_gps[j] #GPS time detector lost lock\n",
    "        \n",
    "        #vertical motion when lost lock; choose max\n",
    "        lostv_v = max(eqdatadf['ETMX_Z'][lostlockbit[j]], eqdatadf['ETMY_Z'][lostlockbit[j]], eqdatadf['ITMY_Z'][lostlockbit[j]])\n",
    "        \n",
    "        #horizontal motion when lost lock; add in quadrature and choose max\n",
    "        etmxh_ll = sqrt((eqdatadf['ETMX_X'][lostlockbit[j]])**2 + (eqdatadf['ETMX_Y'][lostlockbit[j]])**2)\n",
    "        etmyh_ll = sqrt((eqdatadf['ETMY_X'][lostlockbit[j]])**2 + (eqdatadf['ETMY_Y'][lostlockbit[j]])**2)\n",
    "        itmyh_ll = sqrt((eqdatadf['ITMY_X'][lostlockbit[j]])**2 + (eqdatadf['ITMY_Y'][lostlockbit[j]])**2)\n",
    "        lostv_h = max(etmxh_ll, etmyh_ll, itmyh_ll)\n",
    "    \n",
    "    eqdata_total.append([date, brlock, tpeak, maxv_v, maxv_h, ratio, tlostlock, lostv_v, lostv_h]) #add 9 lists"
   ]
  },
  {
   "cell_type": "code",
   "execution_count": 205,
   "id": "27db5bff-dad6-4d79-95ea-3a6938681d0c",
   "metadata": {},
   "outputs": [
    {
     "data": {
      "text/html": [
       "<div>\n",
       "<style scoped>\n",
       "    .dataframe tbody tr th:only-of-type {\n",
       "        vertical-align: middle;\n",
       "    }\n",
       "\n",
       "    .dataframe tbody tr th {\n",
       "        vertical-align: top;\n",
       "    }\n",
       "\n",
       "    .dataframe thead th {\n",
       "        text-align: right;\n",
       "    }\n",
       "</style>\n",
       "<table border=\"1\" class=\"dataframe\">\n",
       "  <thead>\n",
       "    <tr style=\"text-align: right;\">\n",
       "      <th></th>\n",
       "      <th>Date</th>\n",
       "      <th>Broke Lock</th>\n",
       "      <th>Time of Peak</th>\n",
       "      <th>Vert. Vel.</th>\n",
       "      <th>Horiz. Vel.</th>\n",
       "      <th>Ratio V/H</th>\n",
       "      <th>Time of Lost Lock (LL)</th>\n",
       "      <th>LL Vert. Vel.</th>\n",
       "      <th>LL Horiz. Vel.</th>\n",
       "    </tr>\n",
       "  </thead>\n",
       "  <tbody>\n",
       "    <tr>\n",
       "      <th>0</th>\n",
       "      <td>2019-12-10 18:22:42</td>\n",
       "      <td>Yes</td>\n",
       "      <td>1260037380</td>\n",
       "      <td>798.64150</td>\n",
       "      <td>1421.694116</td>\n",
       "      <td>0.561753</td>\n",
       "      <td>1260036180</td>\n",
       "      <td>402.91403</td>\n",
       "      <td>4396.418237</td>\n",
       "    </tr>\n",
       "    <tr>\n",
       "      <th>1</th>\n",
       "      <td>2019-12-12 12:41:42</td>\n",
       "      <td>No</td>\n",
       "      <td>1260189720</td>\n",
       "      <td>516.55440</td>\n",
       "      <td>2440.379603</td>\n",
       "      <td>0.211670</td>\n",
       "      <td>-</td>\n",
       "      <td>-</td>\n",
       "      <td>-</td>\n",
       "    </tr>\n",
       "    <tr>\n",
       "      <th>2</th>\n",
       "      <td>2019-12-14 06:09:42</td>\n",
       "      <td>No</td>\n",
       "      <td>1260339000</td>\n",
       "      <td>563.95917</td>\n",
       "      <td>967.148132</td>\n",
       "      <td>0.583116</td>\n",
       "      <td>-</td>\n",
       "      <td>-</td>\n",
       "      <td>-</td>\n",
       "    </tr>\n",
       "    <tr>\n",
       "      <th>3</th>\n",
       "      <td>2019-12-15 07:40:42</td>\n",
       "      <td>Yes</td>\n",
       "      <td>1260430860</td>\n",
       "      <td>3971.96560</td>\n",
       "      <td>8036.425615</td>\n",
       "      <td>0.494245</td>\n",
       "      <td>1260429660</td>\n",
       "      <td>2239.3032</td>\n",
       "      <td>7048.631822</td>\n",
       "    </tr>\n",
       "    <tr>\n",
       "      <th>4</th>\n",
       "      <td>2019-12-18 03:01:42</td>\n",
       "      <td>Yes</td>\n",
       "      <td>1260673320</td>\n",
       "      <td>410.60437</td>\n",
       "      <td>655.312245</td>\n",
       "      <td>0.626578</td>\n",
       "      <td>1260672120</td>\n",
       "      <td>84.70015</td>\n",
       "      <td>355.821475</td>\n",
       "    </tr>\n",
       "    <tr>\n",
       "      <th>5</th>\n",
       "      <td>2019-12-18 22:19:42</td>\n",
       "      <td>Yes</td>\n",
       "      <td>1260742800</td>\n",
       "      <td>444.36435</td>\n",
       "      <td>968.360902</td>\n",
       "      <td>0.458883</td>\n",
       "      <td>1260741600</td>\n",
       "      <td>34.335316</td>\n",
       "      <td>317.429709</td>\n",
       "    </tr>\n",
       "    <tr>\n",
       "      <th>6</th>\n",
       "      <td>2019-12-19 12:52:42</td>\n",
       "      <td>Yes</td>\n",
       "      <td>1260795180</td>\n",
       "      <td>3414.68800</td>\n",
       "      <td>6378.059722</td>\n",
       "      <td>0.535380</td>\n",
       "      <td>1260794940</td>\n",
       "      <td>1669.7032</td>\n",
       "      <td>3657.725347</td>\n",
       "    </tr>\n",
       "    <tr>\n",
       "      <th>7</th>\n",
       "      <td>2019-12-19 14:58:42</td>\n",
       "      <td>Yes</td>\n",
       "      <td>1260802740</td>\n",
       "      <td>138.54920</td>\n",
       "      <td>264.580662</td>\n",
       "      <td>0.523656</td>\n",
       "      <td>1260801540</td>\n",
       "      <td>43.41284</td>\n",
       "      <td>168.499311</td>\n",
       "    </tr>\n",
       "    <tr>\n",
       "      <th>8</th>\n",
       "      <td>2019-12-20 06:40:42</td>\n",
       "      <td>No</td>\n",
       "      <td>1260859260</td>\n",
       "      <td>303.73444</td>\n",
       "      <td>564.207111</td>\n",
       "      <td>0.538339</td>\n",
       "      <td>-</td>\n",
       "      <td>-</td>\n",
       "      <td>-</td>\n",
       "    </tr>\n",
       "    <tr>\n",
       "      <th>9</th>\n",
       "      <td>2019-12-20 09:58:42</td>\n",
       "      <td>No</td>\n",
       "      <td>1260871140</td>\n",
       "      <td>171.80280</td>\n",
       "      <td>303.477429</td>\n",
       "      <td>0.566114</td>\n",
       "      <td>-</td>\n",
       "      <td>-</td>\n",
       "      <td>-</td>\n",
       "    </tr>\n",
       "    <tr>\n",
       "      <th>10</th>\n",
       "      <td>2019-12-20 12:09:42</td>\n",
       "      <td>No</td>\n",
       "      <td>1260879000</td>\n",
       "      <td>314.84152</td>\n",
       "      <td>459.238178</td>\n",
       "      <td>0.685573</td>\n",
       "      <td>-</td>\n",
       "      <td>-</td>\n",
       "      <td>-</td>\n",
       "    </tr>\n",
       "    <tr>\n",
       "      <th>11</th>\n",
       "      <td>2019-12-21 23:29:42</td>\n",
       "      <td>Yes</td>\n",
       "      <td>1261006200</td>\n",
       "      <td>746.00130</td>\n",
       "      <td>2680.446064</td>\n",
       "      <td>0.278312</td>\n",
       "      <td>1261005000</td>\n",
       "      <td>62.675335</td>\n",
       "      <td>224.586653</td>\n",
       "    </tr>\n",
       "    <tr>\n",
       "      <th>12</th>\n",
       "      <td>2019-12-23 07:42:42</td>\n",
       "      <td>No</td>\n",
       "      <td>1261122180</td>\n",
       "      <td>155.77469</td>\n",
       "      <td>492.635613</td>\n",
       "      <td>0.316207</td>\n",
       "      <td>-</td>\n",
       "      <td>-</td>\n",
       "      <td>-</td>\n",
       "    </tr>\n",
       "    <tr>\n",
       "      <th>13</th>\n",
       "      <td>2019-12-23 16:10:42</td>\n",
       "      <td>Yes</td>\n",
       "      <td>1261152660</td>\n",
       "      <td>1808.51760</td>\n",
       "      <td>5048.744163</td>\n",
       "      <td>0.358211</td>\n",
       "      <td>1261151940</td>\n",
       "      <td>929.7016</td>\n",
       "      <td>1832.81467</td>\n",
       "    </tr>\n",
       "    <tr>\n",
       "      <th>14</th>\n",
       "      <td>2019-12-23 21:20:42</td>\n",
       "      <td>Yes</td>\n",
       "      <td>1261171260</td>\n",
       "      <td>12287.02000</td>\n",
       "      <td>46109.103430</td>\n",
       "      <td>0.266477</td>\n",
       "      <td>1261170060</td>\n",
       "      <td>468.6894</td>\n",
       "      <td>1768.702625</td>\n",
       "    </tr>\n",
       "    <tr>\n",
       "      <th>15</th>\n",
       "      <td>2019-12-24 00:04:42</td>\n",
       "      <td>Yes</td>\n",
       "      <td>1261181100</td>\n",
       "      <td>234.93970</td>\n",
       "      <td>698.487289</td>\n",
       "      <td>0.336355</td>\n",
       "      <td>1261179900</td>\n",
       "      <td>46.813442</td>\n",
       "      <td>163.851374</td>\n",
       "    </tr>\n",
       "    <tr>\n",
       "      <th>16</th>\n",
       "      <td>2019-12-25 04:00:42</td>\n",
       "      <td>Yes</td>\n",
       "      <td>1261281660</td>\n",
       "      <td>21260.85500</td>\n",
       "      <td>49052.189524</td>\n",
       "      <td>0.433433</td>\n",
       "      <td>1261280640</td>\n",
       "      <td>419.0083</td>\n",
       "      <td>326.098419</td>\n",
       "    </tr>\n",
       "    <tr>\n",
       "      <th>17</th>\n",
       "      <td>2019-12-25 21:00:42</td>\n",
       "      <td>No</td>\n",
       "      <td>1261342860</td>\n",
       "      <td>1265.28540</td>\n",
       "      <td>2931.227512</td>\n",
       "      <td>0.431657</td>\n",
       "      <td>-</td>\n",
       "      <td>-</td>\n",
       "      <td>-</td>\n",
       "    </tr>\n",
       "    <tr>\n",
       "      <th>18</th>\n",
       "      <td>2019-12-26 18:03:42</td>\n",
       "      <td>Yes</td>\n",
       "      <td>1261418640</td>\n",
       "      <td>305.58890</td>\n",
       "      <td>666.887027</td>\n",
       "      <td>0.458232</td>\n",
       "      <td>1261418100</td>\n",
       "      <td>50.84568</td>\n",
       "      <td>367.784984</td>\n",
       "    </tr>\n",
       "    <tr>\n",
       "      <th>19</th>\n",
       "      <td>2019-12-28 11:26:42</td>\n",
       "      <td>No</td>\n",
       "      <td>1261567620</td>\n",
       "      <td>200.82637</td>\n",
       "      <td>413.738824</td>\n",
       "      <td>0.485394</td>\n",
       "      <td>-</td>\n",
       "      <td>-</td>\n",
       "      <td>-</td>\n",
       "    </tr>\n",
       "    <tr>\n",
       "      <th>20</th>\n",
       "      <td>2019-12-28 22:53:42</td>\n",
       "      <td>No</td>\n",
       "      <td>1261608840</td>\n",
       "      <td>139.23224</td>\n",
       "      <td>398.791352</td>\n",
       "      <td>0.349136</td>\n",
       "      <td>-</td>\n",
       "      <td>-</td>\n",
       "      <td>-</td>\n",
       "    </tr>\n",
       "    <tr>\n",
       "      <th>21</th>\n",
       "      <td>2019-12-29 01:24:42</td>\n",
       "      <td>No</td>\n",
       "      <td>1261617900</td>\n",
       "      <td>233.57607</td>\n",
       "      <td>772.712375</td>\n",
       "      <td>0.302281</td>\n",
       "      <td>-</td>\n",
       "      <td>-</td>\n",
       "      <td>-</td>\n",
       "    </tr>\n",
       "    <tr>\n",
       "      <th>22</th>\n",
       "      <td>2019-12-30 18:26:42</td>\n",
       "      <td>No</td>\n",
       "      <td>1261765620</td>\n",
       "      <td>207.59055</td>\n",
       "      <td>550.450302</td>\n",
       "      <td>0.377129</td>\n",
       "      <td>-</td>\n",
       "      <td>-</td>\n",
       "      <td>-</td>\n",
       "    </tr>\n",
       "  </tbody>\n",
       "</table>\n",
       "</div>"
      ],
      "text/plain": [
       "                  Date Broke Lock  Time of Peak   Vert. Vel.   Horiz. Vel.  \\\n",
       "0  2019-12-10 18:22:42        Yes    1260037380    798.64150   1421.694116   \n",
       "1  2019-12-12 12:41:42         No    1260189720    516.55440   2440.379603   \n",
       "2  2019-12-14 06:09:42         No    1260339000    563.95917    967.148132   \n",
       "3  2019-12-15 07:40:42        Yes    1260430860   3971.96560   8036.425615   \n",
       "4  2019-12-18 03:01:42        Yes    1260673320    410.60437    655.312245   \n",
       "5  2019-12-18 22:19:42        Yes    1260742800    444.36435    968.360902   \n",
       "6  2019-12-19 12:52:42        Yes    1260795180   3414.68800   6378.059722   \n",
       "7  2019-12-19 14:58:42        Yes    1260802740    138.54920    264.580662   \n",
       "8  2019-12-20 06:40:42         No    1260859260    303.73444    564.207111   \n",
       "9  2019-12-20 09:58:42         No    1260871140    171.80280    303.477429   \n",
       "10 2019-12-20 12:09:42         No    1260879000    314.84152    459.238178   \n",
       "11 2019-12-21 23:29:42        Yes    1261006200    746.00130   2680.446064   \n",
       "12 2019-12-23 07:42:42         No    1261122180    155.77469    492.635613   \n",
       "13 2019-12-23 16:10:42        Yes    1261152660   1808.51760   5048.744163   \n",
       "14 2019-12-23 21:20:42        Yes    1261171260  12287.02000  46109.103430   \n",
       "15 2019-12-24 00:04:42        Yes    1261181100    234.93970    698.487289   \n",
       "16 2019-12-25 04:00:42        Yes    1261281660  21260.85500  49052.189524   \n",
       "17 2019-12-25 21:00:42         No    1261342860   1265.28540   2931.227512   \n",
       "18 2019-12-26 18:03:42        Yes    1261418640    305.58890    666.887027   \n",
       "19 2019-12-28 11:26:42         No    1261567620    200.82637    413.738824   \n",
       "20 2019-12-28 22:53:42         No    1261608840    139.23224    398.791352   \n",
       "21 2019-12-29 01:24:42         No    1261617900    233.57607    772.712375   \n",
       "22 2019-12-30 18:26:42         No    1261765620    207.59055    550.450302   \n",
       "\n",
       "    Ratio V/H Time of Lost Lock (LL) LL Vert. Vel. LL Horiz. Vel.  \n",
       "0    0.561753             1260036180     402.91403    4396.418237  \n",
       "1    0.211670                      -             -              -  \n",
       "2    0.583116                      -             -              -  \n",
       "3    0.494245             1260429660     2239.3032    7048.631822  \n",
       "4    0.626578             1260672120      84.70015     355.821475  \n",
       "5    0.458883             1260741600     34.335316     317.429709  \n",
       "6    0.535380             1260794940     1669.7032    3657.725347  \n",
       "7    0.523656             1260801540      43.41284     168.499311  \n",
       "8    0.538339                      -             -              -  \n",
       "9    0.566114                      -             -              -  \n",
       "10   0.685573                      -             -              -  \n",
       "11   0.278312             1261005000     62.675335     224.586653  \n",
       "12   0.316207                      -             -              -  \n",
       "13   0.358211             1261151940      929.7016     1832.81467  \n",
       "14   0.266477             1261170060      468.6894    1768.702625  \n",
       "15   0.336355             1261179900     46.813442     163.851374  \n",
       "16   0.433433             1261280640      419.0083     326.098419  \n",
       "17   0.431657                      -             -              -  \n",
       "18   0.458232             1261418100      50.84568     367.784984  \n",
       "19   0.485394                      -             -              -  \n",
       "20   0.349136                      -             -              -  \n",
       "21   0.302281                      -             -              -  \n",
       "22   0.377129                      -             -              -  "
      ]
     },
     "execution_count": 205,
     "metadata": {},
     "output_type": "execute_result"
    }
   ],
   "source": [
    "#store dataframe\n",
    "eqtotaldf = pd.DataFrame(eqdata_total, columns = ['Date', 'Broke Lock', 'Time of Peak', 'Vert. Vel.', 'Horiz. Vel.', 'Ratio V/H', 'Time of Lost Lock (LL)', 'LL Vert. Vel.', 'LL Horiz. Vel.'])\n",
    "eqtotaldf"
   ]
  },
  {
   "cell_type": "code",
   "execution_count": 206,
   "id": "cc7b006d-92a4-43b9-8654-f14f441056fe",
   "metadata": {},
   "outputs": [],
   "source": [
    "#save to csv\n",
    "eqtotaldf.to_csv(eqfname) "
   ]
  },
  {
   "cell_type": "markdown",
   "id": "8b3dc0d3-af06-4a3e-b56b-8f2a29921970",
   "metadata": {
    "tags": []
   },
   "source": [
    "### Section 4\n",
    "* This section is made to concatenate CSV files and only needs to be used if more than one CSV is saved."
   ]
  },
  {
   "cell_type": "code",
   "execution_count": 4,
   "id": "f1eb5029-be05-4ce4-a648-63457961f292",
   "metadata": {},
   "outputs": [],
   "source": [
    "#filename parameter\n",
    "totalfname = \"eqtotaldf_o3_30M_100M_LA.csv\""
   ]
  },
  {
   "cell_type": "code",
   "execution_count": 5,
   "id": "09b14b47-03ac-4ef3-8a34-f1c4a8871bb4",
   "metadata": {},
   "outputs": [],
   "source": [
    "#get earthquake total dataframes from saved files\n",
    "#O3a\n",
    "apr = pd.read_csv(\"./eqlock_data/eqtotaldf_apr2019_30M_100M_LA.csv\")\n",
    "may = pd.read_csv(\"./eqlock_data/eqtotaldf_may2019_30M_100M_LA.csv\")\n",
    "jun = pd.read_csv(\"./eqlock_data/eqtotaldf_jun2019_30M_100M_LA.csv\")\n",
    "jul = pd.read_csv(\"./eqlock_data/eqtotaldf_jul2019_30M_100M_LA.csv\")\n",
    "aug = pd.read_csv(\"./eqlock_data/eqtotaldf_aug2019_30M_100M_LA.csv\")\n",
    "sep = pd.read_csv(\"./eqlock_data/eqtotaldf_sep2019_30M_100M_LA.csv\")\n",
    "\n",
    "#O3b\n",
    "#nov and dec do not have data logged for one hour, causing an error with getting data for over the whole day\n",
    "#run the previous sections and split each month into A and B observing segments, then concatenate dataframes in the csv files\n",
    "nov = pd.concat(map(pd.read_csv, [\"./eqlock_data/eqtotaldf_novA2019_30M_100M_LA.csv\", \"./eqlock_data/eqtotaldf_novB2019_30M_100M_LA.csv\"]), ignore_index=True)\n",
    "dec = pd.concat(map(pd.read_csv, [\"./eqlock_data/eqtotaldf_decA2019_30M_100M_LA.csv\", \"./eqlock_data/eqtotaldf_decB2019_30M_100M_LA.csv\"]), ignore_index=True)\n",
    "jan = pd.read_csv(\"./eqlock_data/eqtotaldf_jan2020_30M_100M_LA.csv\")\n",
    "feb = pd.read_csv(\"./eqlock_data/eqtotaldf_feb2020_30M_100M_LA.csv\")\n",
    "mar = pd.read_csv(\"./eqlock_data/eqtotaldf_mar2020_30M_100M_LA.csv\")"
   ]
  },
  {
   "cell_type": "code",
   "execution_count": 6,
   "id": "2c96fae8-4f2a-4120-b2cf-f1e7e1b03f60",
   "metadata": {},
   "outputs": [],
   "source": [
    "months = [apr, may, jun, jul, aug, sep, nov, dec, jan, feb, mar] #combine for all of O3\n",
    "o3ab_df = pd.concat(months)"
   ]
  },
  {
   "cell_type": "code",
   "execution_count": 7,
   "id": "f5d30453-c3c0-4ab2-ac0e-cad586fadac0",
   "metadata": {},
   "outputs": [],
   "source": [
    "o3ab_df.to_csv(totalfname)"
   ]
  },
  {
   "cell_type": "markdown",
   "id": "313861ec-39ce-4958-af23-c5353ed68c2d",
   "metadata": {},
   "source": [
    "### Section 5:\n",
    "* Produce a scatter plot of vertical ground velocities vs. horizontal ground velocities. Use colors to differentiate between \"survived\" earthquake events and those that result in lockloss.\n",
    "* Lastly, produce a plot of the probability of survival for increasing magnitudes of seismic motion. The ground velocity magnitudes are divided into bins, and the probability is evaulated and plotted for each one. The probability is calculated by dividing the number of survived earthquakes by the total number of earthquakes."
   ]
  },
  {
   "cell_type": "code",
   "execution_count": 8,
   "id": "9f4e4349-2529-4437-b7e8-9ec30e782e28",
   "metadata": {},
   "outputs": [],
   "source": [
    "datafname = totalfname  # =totalfname if Section 4 was run, =eqfname if Section 4 is not run\n",
    "vel_plotname = 'eqlock_data/eqvelocities.png'\n",
    "prob_plotname = 'eqlock_data/eqprobability.png'\n",
    "\n",
    "totaldf = pd.read_csv(datafname)"
   ]
  },
  {
   "cell_type": "code",
   "execution_count": 9,
   "id": "e1972ed2-42dd-4878-8c66-2f58f124b477",
   "metadata": {},
   "outputs": [
    {
     "data": {
      "image/png": "[encoded data removed]",
      "text/plain": [
       "<Figure size 864x576 with 1 Axes>"
      ]
     },
     "metadata": {
      "needs_background": "light"
     },
     "output_type": "display_data"
    }
   ],
   "source": [
    "#plot magnitude of vertical vs. horizontal ground velocities\n",
    "plt.figure(figsize=(12,8))\n",
    "plt.title('L1: Peak ground velocities of earthquake events in O3', fontsize=18) #choose plot title\n",
    "\n",
    "#plot survived and lostlock earthquake events\n",
    "plt.scatter(totaldf[totaldf['Broke Lock']=='No']['Horiz. Vel.'], totaldf[totaldf['Broke Lock']=='No']['Vert. Vel.'],label='Survived', color='darkblue')\n",
    "plt.scatter(totaldf[totaldf['Broke Lock']=='Yes']['Horiz. Vel.'], totaldf[totaldf['Broke Lock']=='Yes']['Vert. Vel.'],label='Broke Lock', color='mediumturquoise')\n",
    "plt.plot([100,100000], [100, 100000], '-', color='black') #plot y=x to easily visualize how vert. and horiz. compare\n",
    "\n",
    "plt.xlabel('Horizontal Peak Velocity (nm/s)', fontsize=15)\n",
    "plt.ylabel('Vertical Peak Velocity (nm/s)',fontsize=15)\n",
    "plt.legend()\n",
    "plt.xticks(fontsize=10)\n",
    "plt.yticks(fontsize=10)\n",
    "plt.xscale('log')\n",
    "plt.yscale('log')\n",
    "plt.grid(True, which=\"both\", ls=\"-\")\n",
    "\n",
    "plt.savefig(vel_plotname)\n",
    "plt.show()"
   ]
  },
  {
   "cell_type": "code",
   "execution_count": 243,
   "id": "697d2f43-2dae-4fd0-9011-4257c1b4ee45",
   "metadata": {},
   "outputs": [],
   "source": [
    "#set bins #choose your own parameters \n",
    "bins = np.logspace(2, 5.9, num=16)"
   ]
  },
  {
   "cell_type": "code",
   "execution_count": 244,
   "id": "20d3985a-f7d3-4f60-b4e6-25009a708cb3",
   "metadata": {},
   "outputs": [],
   "source": [
    "#calculate probability of survival\n",
    "survivedeq = totaldf[totaldf['Broke Lock']=='No']['Vert. Vel.'].value_counts(sort = False, bins = bins) #number of survived EQs\n",
    "totaleq = totaldf['Vert. Vel.'].value_counts(sort = False, bins = bins) #total number of EQs\n",
    "\n",
    "prob = survivedeq/totaleq"
   ]
  },
  {
   "cell_type": "code",
   "execution_count": 246,
   "id": "9ac459fa-80ee-4961-8c9d-093610361b92",
   "metadata": {},
   "outputs": [
    {
     "data": {
      "image/png": "[encoded data removed]",
      "text/plain": [
       "<Figure size 864x576 with 1 Axes>"
      ]
     },
     "metadata": {
      "needs_background": "light"
     },
     "output_type": "display_data"
    }
   ],
   "source": [
    "#plot histogram\n",
    "dimw = np.diff(bins)\n",
    "\n",
    "fig, ax = plt.subplots(figsize=(12,8))\n",
    "x = bins[0:-1]\n",
    "y = prob\n",
    "yerr = 1/np.sqrt(totaleq.array)\n",
    "b = ax.bar(x + dimw, y+0.01, dimw, bottom=-0.001, yerr=yerr, ls='none')\n",
    "\n",
    "#ax.set_xticks(x + dimw / 2, labels=map(str, x))\n",
    "ax.set_xscale('log')\n",
    "ax.set_ylim(0, 1)\n",
    "ax.set_xlabel('Vertical ground motion (nm/s)', fontsize=15)\n",
    "ax.set_ylabel('Probability of Survival', fontsize=15)\n",
    "ax.set_title('L1: Probability of surviving earthquake events in O3', fontsize=15)\n",
    "\n",
    "plt.savefig(prob_plotname)\n",
    "plt.show()"
   ]
  },
  {
   "cell_type": "code",
   "execution_count": 28,
   "id": "97d2a408-a1c7-456a-a55a-d792f7612017",
   "metadata": {
    "collapsed": true,
    "jupyter": {
     "outputs_hidden": true
    },
    "tags": []
   },
   "outputs": [
    {
     "data": {
      "text/plain": [
       "[1238124198, 1238146998, 1238184438, 1238278998, 1238296158, 1238517798, 1238526438, 1238536098, 1238620758, 1238655498, 1238671818, 1238798898, 1238871318, 1239009918, 1239109758, 1239120678, 1239293838, 1239428598, 1239438498, 1239446718, 1239837918, 1239964458, 1239994338, 1240006158, 1240037178, 1240090338, 1240296918, 1240473978, 1240543518, 1240588038, 1240694358, 1240907538, 1240972278, 1241075478, 1241216718, 1241360238, 1241485338, 1241497938, 1241725338, 1241746158, 1241878878, 1241886198, 1241907018, 1241937558, 1241968698, 1242009138, 1242059718, 1242084198, 1242160878, 1242172158, 1242185478, 1242267858, 1242316638, 1242510018, 1242526278, 1242598578, 1242639078, 1242662538, 1242674058, 1242893058, 1242987858, 1243243038, 1243253778, 1243267518, 1243324458, 1243340298, 1243401678, 1243510458, 1243582458, 1243660098, 1244193978, 1244226138, 1244433378, 1244508678, 1244523078, 1244566038, 1244581878, 1244682798, 1244700678, 1244758038, 1244790498, 1244807238, 1244823198, 1244903118, 1244913258, 1244928618, 1244966238, 1245004878, 1245025098, 1245145698, 1245229218, 1245244998, 1245279018, 1245298398, 1245384498, 1245415518, 1245435978, 1245484218, 1245491658, 1245553638, 1245562938, 1245672498, 1245776238, 1245785058, 1245875718, 1246040538, 1246093158, 1246101258, 1246128798, 1246165938, 1246251378, 1246297878, 1246368198, 1246419378, 1246441578, 1246459818, 1246514178, 1246552098, 1246609098, 1246651878, 1246931418, 1246973538, 1247003358, 1247105598, 1247123718, 1247136198, 1247217798, 1247354358, 1247412258, 1247449038, 1247568138, 1247674398, 1247769618, 1247917458, 1248138078, 1248224478, 1248290898, 1248471618, 1248588498, 1248721878, 1248729078, 1248763518, 1248788238, 1249253178, 1249302198, 1249411458, 1249678218, 1249855158, 1249904238, 1249996098, 1250005698, 1250081778, 1250190738, 1250344998, 1250440158, 1250540658, 1250989098, 1251074718, 1251127938, 1251181398, 1251289098, 1251304338, 1251333918, 1251349278, 1251390078, 1251466998, 1251501138, 1251721398, 1251732438, 1251822498, 1251952398, 1252029078, 1252039278, 1252089018, 1252102578, 1252133118, 1252161078, 1252184478, 1252517718, 1252532358, 1252567038, 1252719738, 1252913358, 1253112978, 1253299098, 1253331918, 1253362878, 1253400978, 1253495778, 1253534058, 1253553198, 1253624418, 1253634738, 1253759238, 1253810238, 1253827218, 1256657958, 1256756958, 1256945898, 1257026178, 1257035718, 1257113838, 1257205698, 1257246678, 1257261978, 1257324138, 1257362718, 1257552798, 1257630558, 1257698658, 1257787818, 1257806118, 1257939258, 1257947658, 1258123878, 1258242798, 1258276638, 1258285878, 1258324140, 1258334160, 1258550580, 1258594620, 1258775160, 1258786920, 1258876200, 1258904400, 1259114820, 1259136120, 1259300778, 1259399958, 1259454438, 1259527218, 1259675838, 1259685318, 1259908398, 1259967978, 1260004698, 1260037380, 1260189720, 1260339000, 1260430860, 1260673320, 1260742800, 1260795180, 1260802740, 1260859260, 1260871140, 1260879000, 1261006200, 1261122180, 1261152660, 1261171260, 1261181100, 1261281660, 1261342860, 1261418640, 1261567620, 1261608840, 1261617900, 1261765620, 1261906698, 1261978758, 1261992438, 1262028498, 1262059278, 1262101158, 1262235618, 1262311818, 1262343078, 1262413578, 1262421798, 1262432238, 1262522838, 1262596938, 1262604798, 1262705838, 1262731518, 1262745258, 1262783598, 1263041118, 1263138858, 1263203118, 1263212838, 1263230538, 1263263298, 1263281538, 1263394398, 1263405678, 1263480138, 1263541758, 1263635418, 1263729258, 1263759738, 1263796698, 1263888978, 1263927138, 1263939258, 1263957678, 1264049058, 1264058598, 1264067958, 1264116078, 1264140198, 1264173138, 1264264878, 1264275138, 1264284978, 1264345038, 1264386438, 1264403238, 1264422138, 1264463238, 1264507038, 1264650978, 1264935678, 1264962738, 1265035818, 1265212698, 1265267418, 1265617878, 1265626878, 1265758998, 1265838138, 1265983278, 1266048618, 1266184938, 1266263298, 1266318438, 1266439518, 1266476238, 1266512778, 1266571638, 1266625998, 1266739038, 1267147338, 1267530798, 1267589238, 1267598958, 1267759338, 1267772178, 1267875198, 1267890438, 1267995018, 1268055978, 1268067798, 1268218878, 1268349438, 1268381898, 1268398878, 1268499558, 1268573178, 1268582838, 1268590038, 1268605938, 1268707878, 1268728158, 1268790078, 1268892678, 1268953518, 1269142758, 1269276318, 1269298218]"
      ]
     },
     "execution_count": 28,
     "metadata": {},
     "output_type": "execute_result"
    }
   ],
   "source": [
    "#list of GPS times of all earthquake peaks\n",
    "eqtimes = totaldf['Time of Peak'].tolist()\n",
    "eqtimes"
   ]
  },
  {
   "cell_type": "code",
   "execution_count": 29,
   "id": "2325a496-ac2b-4fe5-b77a-225e5fefd395",
   "metadata": {
    "collapsed": true,
    "jupyter": {
     "outputs_hidden": true
    },
    "tags": []
   },
   "outputs": [
    {
     "data": {
      "text/plain": [
       "[1238278998, 1238517798, 1238526438, 1238536098, 1238620758, 1238798898, 1238871318, 1239009918, 1239109758, 1239120678, 1239293838, 1239964458, 1239994338, 1240006158, 1240037178, 1240090338, 1240473978, 1240543518, 1240588038, 1240694358, 1240907538, 1241216718, 1241360238, 1241485338, 1241497938, 1241725338, 1241878878, 1241886198, 1241937558, 1242059718, 1242084198, 1242160878, 1242185478, 1242267858, 1242316638, 1242639078, 1242893058, 1242987858, 1243243038, 1243340298, 1243510458, 1243582458, 1244508678, 1244682798, 1244700678, 1244790498, 1244823198, 1244903118, 1244913258, 1244928618, 1244966238, 1245004878, 1245145698, 1245229218, 1245244998, 1245279018, 1245298398, 1245384498, 1245415518, 1245435978, 1245491658, 1245553638, 1245562938, 1245672498, 1245776238, 1246128798, 1246165938, 1246251378, 1246297878, 1246368198, 1246419378, 1246441578, 1246552098, 1246651878, 1246973538, 1247003358, 1247105598, 1247123718, 1247136198, 1247217798, 1247412258, 1248224478, 1248588498, 1248721878, 1248729078, 1248788238, 1249302198, 1249678218, 1249855158, 1250005698, 1250344998, 1250989098, 1251074718, 1251127938, 1251289098, 1251349278, 1251390078, 1251501138, 1251721398, 1251732438, 1252161078, 1252184478, 1253112978, 1253331918, 1253495778, 1253759238, 1253810238, 1256657958, 1256756958, 1256945898, 1257113838, 1257205698, 1257246678, 1257552798, 1257630558, 1257698658, 1257787818, 1257806118, 1258242798, 1258334160, 1258594620, 1258775160, 1259136120, 1259300778, 1260037380, 1260430860, 1260673320, 1260742800, 1260795180, 1260802740, 1261006200, 1261152660, 1261171260, 1261181100, 1261281660, 1261418640, 1262235618, 1262343078, 1262413578, 1262421798, 1262432238, 1262596938, 1262604798, 1262705838, 1262783598, 1263394398, 1263405678, 1263480138, 1263541758, 1263635418, 1263796698, 1263927138, 1263939258, 1264116078, 1264264878, 1264275138, 1264284978, 1264463238, 1264962738, 1265035818, 1265626878, 1265758998, 1265838138, 1266048618, 1266263298, 1267147338, 1267530798, 1267589238, 1267759338, 1267890438, 1267995018, 1268218878, 1268398878, 1268499558, 1268573178, 1269142758, 1269298218]"
      ]
     },
     "execution_count": 29,
     "metadata": {},
     "output_type": "execute_result"
    }
   ],
   "source": [
    "#times of earthquake events that break lock (\"lockloss times\")\n",
    "ll_times = totaldf[totaldf['Broke Lock']=='Yes']['Time of Peak'].tolist()\n",
    "ll_times"
   ]
  },
  {
   "cell_type": "code",
   "execution_count": null,
   "id": "aafcbdbd-7cbc-419c-bf3c-be3b7f260d33",
   "metadata": {},
   "outputs": [],
   "source": []
  }
 ],
 "metadata": {
  "kernelspec": {
   "display_name": "igwn-py38",
   "language": "python",
   "name": "igwn-py38"
  },
  "language_info": {
   "codemirror_mode": {
    "name": "ipython",
    "version": 3
   },
   "file_extension": ".py",
   "mimetype": "text/x-python",
   "name": "python",
   "nbconvert_exporter": "python",
   "pygments_lexer": "ipython3",
   "version": "3.8.13"
  }
 },
 "nbformat": 4,
 "nbformat_minor": 5
}
