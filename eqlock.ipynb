{
 "cells": [
  {
   "cell_type": "markdown",
   "id": "6dff2237-0515-4ed3-95c4-509bbb05f086",
   "metadata": {
    "tags": []
   },
   "source": [
    "## EQLock: Statistics of Earthquakes and Detector Lockloss\n",
    "\n",
    "**Introduction:**\n",
    "insert short intro\n",
    "\n",
    "**Input:**\n",
    "* Parameters: start time, duration, width, prominience, distance\n",
    "* Channels: choose frequency band and ETM/ITM channels of interest\n",
    "\n",
    "**Output:**\n",
    "Probability"
   ]
  },
  {
   "cell_type": "code",
   "execution_count": null,
   "id": "1dd72fcd-29b7-4117-a8e5-d81edb9ac9cd",
   "metadata": {},
   "outputs": [],
   "source": [
    "import pandas as pd\n",
    "import numpy as np\n",
    "\n",
    "from gwpy.timeseries import TimeSeries\n",
    "import matplotlib.pyplot as plt\n",
    "from matplotlib.pyplot import figure\n",
    "import matplotlib.colors as mcolors\n",
    "import matplotlib.ticker as ticker\n",
    "from scipy.signal import find_peaks\n",
    "import datetime\n",
    "from gwpy.time import tconvert\n",
    "from gwpy.time import from_gps\n",
    "from numpy import sqrt\n",
    "import math\n",
    "from IPython.core.interactiveshell import InteractiveShell\n",
    "InteractiveShell.ast_node_interactivity = \"last\"\n",
    "%matplotlib inline"
   ]
  },
  {
   "cell_type": "markdown",
   "id": "8cc34c45-9e6a-4817-b254-bb4e25696907",
   "metadata": {},
   "source": [
    "### Section 1: set parameters & get data\n",
    "* This is most time-consuming part of code! For one month of data, it typically takes between 2-5 hours to get the seismic TimeSeries and 10-30 minutes to get lockbit TimeSeries.\n",
    "* If importing large amounts of data, I recommend breaking up the time and repeating Sections 1 and 2. If broken up monthly, for example, Section 1 saves two csv files for each month. Section 2 will be explained."
   ]
  },
  {
   "cell_type": "code",
   "execution_count": null,
   "id": "3af4906a-ee32-420f-ab6b-d9adf85a4409",
   "metadata": {},
   "outputs": [],
   "source": [
    "#parameters\n",
    "start_time = 1251331218 #Sep 1, 2019 00:00:00\n",
    "duration = 24*3600*30 #30 days in Sep #can also use GPS (end time - start time)\n",
    "\n",
    "#vertical + horizontal channels for end stations ETMX, ETMY and inner station ITMY\n",
    "channels = ['ETMX_Z', 'ETMY_Z', 'ITMY_Z', 'ETMX_X','ETMX_Y', 'ETMY_X', 'ETMY_Y', 'ITMY_X', 'ITMY_Y']"
   ]
  },
  {
   "cell_type": "code",
   "execution_count": null,
   "id": "9fda1cf7-19fb-4272-9d2b-3e457db4c50d",
   "metadata": {},
   "outputs": [],
   "source": [
    "%%time #note: getting data takes longest, so time this cell to understand efficiency\n",
    "#get time series in earthquake band ground motion\n",
    "\n",
    "channelRMS = []\n",
    "for chn in channels:\n",
    "    chname = 'L1:ISI-GND_STS_' + chn + '_BLRMS_30M_100M.max' #earthquake band 0.03-0.1 Hz\n",
    "    data = TimeSeries.find(chname, start_time, start_time + duration, frametype ='L1_M', verbose=True) #L1_M is minute-trend\n",
    "    channelRMS.append(data.value)"
   ]
  },
  {
   "cell_type": "code",
   "execution_count": null,
   "id": "d4d1b152-ea2e-460c-8922-1b7f61e5142b",
   "metadata": {},
   "outputs": [],
   "source": [
    "#store earthquake data\n",
    "eqdata = pd.DataFrame(np.transpose(channelRMS), columns = [channels])"
   ]
  },
  {
   "cell_type": "code",
   "execution_count": null,
   "id": "2b8c80ab-0912-40ef-98d2-c86a32238d59",
   "metadata": {},
   "outputs": [],
   "source": [
    "#save to csv #keep date, frequency, and location in file name\n",
    "eqdata.to_csv(\"eqdata_sep2019_30M_100M_LA.csv\")"
   ]
  },
  {
   "cell_type": "code",
   "execution_count": null,
   "id": "36176801-3196-4adf-8cd8-56a6f94c61be",
   "metadata": {},
   "outputs": [],
   "source": [
    "%%time\n",
    "#find time series for lockbit data\n",
    "\n",
    "lockstate = []\n",
    "lockbit_ts = TimeSeries.find('L1:GRD-ISC_LOCK_STATE_N.min',start_time, start_time + duration, frametype ='L1_M', verbose=True)\n",
    "lockstate.append(lockbit_ts.value)"
   ]
  },
  {
   "cell_type": "code",
   "execution_count": null,
   "id": "0c5b151e-c1fb-4d7b-b286-f8119a83c018",
   "metadata": {},
   "outputs": [],
   "source": [
    "#store lockbit data\n",
    "lbdata = pd.DataFrame(np.transpose(lockstate)) "
   ]
  },
  {
   "cell_type": "code",
   "execution_count": null,
   "id": "80c0af3b-12f4-47cb-865b-a095f13cc72e",
   "metadata": {},
   "outputs": [],
   "source": [
    "#save to csv\n",
    "lbdata.to_csv(\"lbdata_sep2019_LA.csv\") "
   ]
  },
  {
   "cell_type": "markdown",
   "id": "1905fda5-d586-49a1-b2a4-3836d9464047",
   "metadata": {},
   "source": [
    "### Section 2: combine data & get statistics\n",
    "* The three parameters set here define what is considered a peak in the data, thus what characterizes an earthquake.\n",
    "* "
   ]
  },
  {
   "cell_type": "code",
   "execution_count": null,
   "id": "b0480fce-448b-4956-8902-a5f4c20b1aa8",
   "metadata": {},
   "outputs": [],
   "source": [
    "#set parameters\n",
    "peakwidth = 5\n",
    "peakprom = 100\n",
    "peakdist = 120"
   ]
  },
  {
   "cell_type": "code",
   "execution_count": null,
   "id": "c767d787-3ea0-4dda-859e-831505e7dc58",
   "metadata": {},
   "outputs": [],
   "source": [
    "#get earthquake dataframe from file (in folder eqlockbit_data)\n",
    "lockbitdf = pd.read_csv(\"./eqlockbit_data/lbdata_sep2019_LA.csv\")\n",
    "eqdatadf = pd.read_csv(\"./eqlockbit_data/eqdata_sep2019_30M_100M_LA.csv\")\n",
    "\n",
    "etmx = sqrt((eqdatadf['ETMX_X'])**2 + (eqdatadf['ETMX_Y'])**2)\n",
    "etmy = sqrt((eqdatadf['ETMY_X'])**2 + (eqdatadf['ETMY_Y'])**2)\n",
    "itmy = sqrt((eqdatadf['ITMY_X'])**2 + (eqdatadf['ITMY_Y'])**2)\n",
    "\n",
    "eqdatadf['ETMX_H'] = etmx\n",
    "eqdatadf['ETMY_H'] = etmy\n",
    "eqdatadf['ITMY_H'] = itmy"
   ]
  },
  {
   "cell_type": "code",
   "execution_count": null,
   "id": "5432c9b6-fe6b-4df0-9bc3-946261448337",
   "metadata": {},
   "outputs": [],
   "source": [
    "#find peaks using parameters\n",
    "\n",
    "peaks,_ = find_peaks(eqdatadf['ETMX_Z'], width = peakwidth, distance = peakdist, prominence = peakprom)\n",
    "peaks"
   ]
  },
  {
   "cell_type": "code",
   "execution_count": null,
   "id": "0945ce55-1425-4983-bab0-46f92a91cefb",
   "metadata": {},
   "outputs": [],
   "source": [
    "#find common peaks in at least two of the three Z-channels, define those as EQs\n",
    "EQix = []\n",
    "\n",
    "EQix.append(np.intersect1d(peaksRMSix[0],peaksRMSix[1]))\n",
    "EQix.append(np.intersect1d(peaksRMSix[1],peaksRMSix[2]))\n",
    "EQix.append(np.intersect1d(peaksRMSix[2],peaksRMSix[0]))\n",
    "\n",
    "EQix = np.unique(np.concatenate(EQix))\n",
    "EQix #returns list of location of each earthquake peak"
   ]
  },
  {
   "cell_type": "code",
   "execution_count": null,
   "id": "8a29eda5-6f5a-4dfa-b9d6-718f93e838f9",
   "metadata": {},
   "outputs": [],
   "source": [
    "#plot common peaks in ETMX_Z, ETMY_Z, and ITMY_Z\n",
    "plt.figure(figsize=(12,8))\n",
    "plt.title('L1: Common peaks in vertical motion channels',fontsize=18)\n",
    "\n",
    "colors = ['blue','green','purple']\n",
    "for jj in range(3):\n",
    "    plt.plot(eqdatadf[channels[jj]], color = colors[jj])\n",
    "\n",
    "for jj in range(3):\n",
    "    for i in range(len(EQix)):\n",
    "        plt.plot(EQix[i], eqdatadf[channels[jj]][EQix[i]], '*', color = 'orange')\n",
    "\n",
    "plt.grid(True, which=\"both\")\n",
    "plt.legend(['ETMX_Z', 'ETMY_Z', 'ITMY_Z', 'Earthquakes'])\n",
    "labels = ['09-01', '09-08', '09-15', '09-22', '09-29'] #labels for each week\n",
    "plt.xticks(np.arange(min(t), max(t)+1, step=10080), labels)\n",
    "plt.xlabel('Time from 2019-09-01 00:00:00 UTC', fontsize=15)\n",
    "plt.ylabel('Ground motion [nm/s]',fontsize=15)\n",
    "plt.yscale('log')\n",
    "plt.show()"
   ]
  },
  {
   "cell_type": "code",
   "execution_count": null,
   "id": "47f3807f-ab52-46be-8d69-eb33a13e0c92",
   "metadata": {},
   "outputs": [],
   "source": [
    "#find if detector survived EQ or lost lock status\n",
    "survived = []\n",
    "lostlock = []\n",
    "delta = 20  #minutes - interval before and after EQ to define survival\n",
    "\n",
    "for jj in EQix:\n",
    "    if np.min(lockbitdf['0'][jj-delta:jj+delta])>=2000:\n",
    "        survived.append(jj)\n",
    "    else:\n",
    "        lostlock.append(jj)"
   ]
  },
  {
   "cell_type": "code",
   "execution_count": null,
   "id": "1562adc6-4d73-4086-9d3c-74665a49884e",
   "metadata": {},
   "outputs": [],
   "source": [
    "#find times of lockloss within +/- delta of each event \n",
    "#outputs first number we lost lock\n",
    "lostlockbit = []\n",
    "\n",
    "for jj in lostlock:\n",
    "    d0 = delta\n",
    "    while lockbitdf['0'][jj-d0]>=2000:\n",
    "        d0 = d0 - 1    \n",
    "    lostlockbit.append(jj-d0)  #number we want to associate w eq"
   ]
  },
  {
   "cell_type": "code",
   "execution_count": null,
   "id": "8bcbc10c-48bc-43e3-b80b-b92c3c144fb3",
   "metadata": {},
   "outputs": [],
   "source": [
    "#for survived & lost lock, find max vertical and max horizontal\n",
    "#vertical = 'ETMX_Z', 'ETMY_Z', 'ITMY_Z'\n",
    "#horizontal = 'ETMX_X','ETMX_Y', 'ETMY_X', 'ETMY_Y', 'ITMY_X', 'ITMY_Y'\n",
    "\n",
    "eqdata_total = []\n",
    "\n",
    "EQix_secs = [element * 60 for element in EQix]\n",
    "EQix_gps = [element + start_time for element in EQix_secs]\n",
    "lostlock_secs = [element * 60 for element in lostlockbit]\n",
    "lostlock_gps = [element + start_time for element in lostlock_secs] #time when first lost lock\n",
    "\n",
    "for i in range(len(EQix)):\n",
    "    date = from_gps(EQix_gps[i]) #date of earthquake\n",
    "    tpeak = EQix_gps[i]\n",
    "    \n",
    "    #vertical motion at peak\n",
    "    maxv_v = max(eqdatadf['ETMX_Z'][EQix[i]], eqdatadf['ETMY_Z'][EQix[i]], eqdatadf['ITMY_Z'][EQix[i]])\n",
    "    #horizontal motion at peak\n",
    "    etmxh = sqrt((eqdatadf['ETMX_X'][EQix[i]])**2 + (eqdatadf['ETMX_Y'][EQix[i]])**2)\n",
    "    etmyh = sqrt((eqdatadf['ETMY_X'][EQix[i]])**2 + (eqdatadf['ETMY_Y'][EQix[i]])**2)\n",
    "    itmyh = sqrt((eqdatadf['ITMY_X'][EQix[i]])**2 + (eqdatadf['ITMY_Y'][EQix[i]])**2)\n",
    "    maxv_h = max(etmxh, etmyh, itmyh)\n",
    "    \n",
    "    ratio = maxv_v/maxv_h\n",
    "\n",
    "    if pd.Series(EQix[i]).isin(survived).any():\n",
    "        brlock = \"No\"  #did earthquake break the lock?\n",
    "        tlostv = \"-\"\n",
    "        lostv_v = \"-\"\n",
    "        lostv_h = \"-\"\n",
    "    if pd.Series(EQix[i]).isin(lostlock).any():\n",
    "        brlock = \"Yes\"\n",
    "        j=0\n",
    "        while EQix[i] != lostlock[j]:\n",
    "            j=j+1\n",
    "        tlostv = lostlock_gps[j]\n",
    "        \n",
    "        #vertical motion when lost lock\n",
    "        lostv_v = max(eqdatadf['ETMX_Z'][lostlockbit[j]], eqdatadf['ETMY_Z'][lostlockbit[j]], eqdatadf['ITMY_Z'][lostlockbit[j]])\n",
    "        #horizontal motion when lost lock\n",
    "        etmxh_ll = sqrt((eqdatadf['ETMX_X'][lostlockbit[j]])**2 + (eqdatadf['ETMX_Y'][lostlockbit[j]])**2)\n",
    "        etmyh_ll = sqrt((eqdatadf['ETMY_X'][lostlockbit[j]])**2 + (eqdatadf['ETMY_Y'][lostlockbit[j]])**2)\n",
    "        itmyh_ll = sqrt((eqdatadf['ITMY_X'][lostlockbit[j]])**2 + (eqdatadf['ITMY_Y'][lostlockbit[j]])**2)\n",
    "        lostv_h = max(etmxh_ll, etmyh_ll, itmyh_ll)\n",
    "    \n",
    "    eqdata_total.append([date, brlock, tpeak, maxv_v, maxv_h, ratio, tlostv, lostv_v, lostv_h])"
   ]
  },
  {
   "cell_type": "code",
   "execution_count": null,
   "id": "27db5bff-dad6-4d79-95ea-3a6938681d0c",
   "metadata": {},
   "outputs": [],
   "source": [
    "#store dataframe\n",
    "eqtotaldf = pd.DataFrame(eqdata_total, columns = ['Date', 'Broke Lock', 'Time of Peak', 'Vert. Vel.', 'Horiz. Vel.', 'Ratio V/H', 'Time of Lost Lock (LL)', 'LL Vert. Vel.', 'LL Horiz. Vel.'])\n",
    "eqtotaldf"
   ]
  },
  {
   "cell_type": "code",
   "execution_count": null,
   "id": "cc7b006d-92a4-43b9-8654-f14f441056fe",
   "metadata": {},
   "outputs": [],
   "source": [
    "#save to csv\n",
    "eqtotaldf.to_csv(\"eqtotaldf_sep2019_30M_100M_LA.csv\") "
   ]
  },
  {
   "cell_type": "markdown",
   "id": "313861ec-39ce-4958-af23-c5353ed68c2d",
   "metadata": {},
   "source": [
    "### Section 3:\n",
    "* Only necessary to concatenate csv files if more than one is saved.\n"
   ]
  },
  {
   "cell_type": "code",
   "execution_count": null,
   "id": "09b14b47-03ac-4ef3-8a34-f1c4a8871bb4",
   "metadata": {},
   "outputs": [],
   "source": [
    "#get earthquake total dataframes from file (in folder eqlock)\n",
    "apr = pd.read_csv(\"./eqtotaldf_apr2019_30M_100M_LA.csv\")\n",
    "may = pd.read_csv(\"./eqtotaldf_may2019_30M_100M_LA.csv\")\n",
    "jun = pd.read_csv(\"./eqtotaldf_jun2019_30M_100M_LA.csv\")\n",
    "jul = pd.read_csv(\"./eqtotaldf_jul2019_30M_100M_LA.csv\")\n",
    "aug = pd.read_csv(\"./eqtotaldf_aug2019_30M_100M_LA.csv\")\n",
    "sep = pd.read_csv(\"./eqtotaldf_sep2019_30M_100M_LA.csv\")\n",
    "\n",
    "nov = pd.concat(map(pd.read_csv, [\"./eqtotaldf_novA2019_30M_100M_LA.csv\", \"./eqtotaldf_novB2019_30M_100M_LA.csv\"]), ignore_index=True)\n",
    "dec = pd.concat(map(pd.read_csv, [\"./eqtotaldf_decA2019_30M_100M_LA.csv\", \"./eqtotaldf_decB2019_30M_100M_LA.csv\"]), ignore_index=True)\n",
    "jan = pd.read_csv(\"./eqtotaldf_jan2020_30M_100M_LA.csv\")\n",
    "feb = pd.read_csv(\"./eqtotaldf_feb2020_30M_100M_LA.csv\")\n",
    "mar = pd.read_csv(\"./eqtotaldf_mar2020_30M_100M_LA.csv\")"
   ]
  },
  {
   "cell_type": "code",
   "execution_count": null,
   "id": "2c96fae8-4f2a-4120-b2cf-f1e7e1b03f60",
   "metadata": {},
   "outputs": [],
   "source": [
    "months = [apr, may, jun, jul, aug, sep, nov, dec, jan, feb, mar]\n",
    "o3ab_df = pd.concat(months)"
   ]
  },
  {
   "cell_type": "code",
   "execution_count": null,
   "id": "f5d30453-c3c0-4ab2-ac0e-cad586fadac0",
   "metadata": {},
   "outputs": [],
   "source": [
    "o3ab_df.to_csv(\"eqtotaldf_o3ab_30M_100M_LA.csv\")"
   ]
  },
  {
   "cell_type": "code",
   "execution_count": null,
   "id": "9f4e4349-2529-4437-b7e8-9ec30e782e28",
   "metadata": {},
   "outputs": [],
   "source": [
    "totaldf = pd.read_csv(\"eqtotaldf_o3ab_30M_100M_LA.csv\")"
   ]
  },
  {
   "cell_type": "code",
   "execution_count": null,
   "id": "e1972ed2-42dd-4878-8c66-2f58f124b477",
   "metadata": {},
   "outputs": [],
   "source": [
    "plt.figure(figsize=(12,8))\n",
    "plt.title('L1: Peak ground velocities of earthquake events (O3a and O3b)', fontsize=18)\n",
    "\n",
    "plt.scatter(totaldf[totaldf['Broke Lock']=='No']['Horiz. Vel.'], totaldf[totaldf['Broke Lock']=='No']['Vert. Vel.'],label='Survived', color='darkblue')\n",
    "plt.scatter(totaldf[totaldf['Broke Lock']=='Yes']['Horiz. Vel.'], totaldf[totaldf['Broke Lock']=='Yes']['Vert. Vel.'],label='Broke Lock', color='turquoise')\n",
    "plt.plot([100,100000], [100, 100000], '-')\n",
    "\n",
    "plt.xlabel('Horizontal Peak Velocity (nm/s)', fontsize=15)\n",
    "plt.ylabel('Vertical Peak Velocity (nm/s)',fontsize=15)\n",
    "plt.legend()\n",
    "plt.xticks(fontsize=10)\n",
    "plt.yticks(fontsize=10)\n",
    "plt.xscale('log')\n",
    "plt.yscale('log')\n",
    "plt.grid(True, which=\"both\", ls=\"-\")\n",
    "\n",
    "plt.show()"
   ]
  },
  {
   "cell_type": "code",
   "execution_count": null,
   "id": "697d2f43-2dae-4fd0-9011-4257c1b4ee45",
   "metadata": {},
   "outputs": [],
   "source": [
    "bins = np.logspace(2, 5.9, num=14)"
   ]
  },
  {
   "cell_type": "code",
   "execution_count": null,
   "id": "20d3985a-f7d3-4f60-b4e6-25009a708cb3",
   "metadata": {},
   "outputs": [],
   "source": [
    "survivedeq = totaldf[totaldf['Broke Lock']=='No']['Vert. Vel.'].value_counts(sort = False, bins = bins)\n",
    "totaleq = totaldf['Vert. Vel.'].value_counts(sort = False, bins = bins)\n",
    "\n",
    "prob = survivedeq/totaleq"
   ]
  },
  {
   "cell_type": "code",
   "execution_count": null,
   "id": "9ac459fa-80ee-4961-8c9d-093610361b92",
   "metadata": {},
   "outputs": [],
   "source": [
    "# plot rectangles instead of points (histogram)\n",
    "dimw = np.diff(bins)\n",
    "\n",
    "fig, ax = plt.subplots(figsize=(12,8))\n",
    "x = bins[0:-1]\n",
    "y = prob\n",
    "b = ax.bar(x + dimw, y+0.01, dimw, bottom=-0.001, yerr=yerr, ls='none')\n",
    "\n",
    "#ax.set_xticks(x + dimw / 2, labels=map(str, x))\n",
    "ax.set_xscale('log')\n",
    "ax.set_ylim(0, 1)\n",
    "ax.set_xlabel('Vertical ground motion (nm/s)')\n",
    "ax.set_ylabel('Probability of Survival')\n",
    "\n",
    "plt.show()"
   ]
  }
 ],
 "metadata": {
  "kernelspec": {
   "display_name": "igwn-py38",
   "language": "python",
   "name": "igwn-py38"
  },
  "language_info": {
   "codemirror_mode": {
    "name": "ipython",
    "version": 3
   },
   "file_extension": ".py",
   "mimetype": "text/x-python",
   "name": "python",
   "nbconvert_exporter": "python",
   "pygments_lexer": "ipython3",
   "version": "3.8.12"
  }
 },
 "nbformat": 4,
 "nbformat_minor": 5
}
